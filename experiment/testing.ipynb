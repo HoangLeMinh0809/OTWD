{
 "cells": [
  {
   "cell_type": "code",
   "execution_count": 1,
   "id": "98c55282",
   "metadata": {},
   "outputs": [
    {
     "ename": "ImportError",
     "evalue": "cannot import name 'UltraTWD_GD' from 'op_tree' (c:\\Users\\Admin\\Downloads\\GOW-main\\GOW-main\\examples\\../src\\op_tree\\__init__.py)",
     "output_type": "error",
     "traceback": [
      "\u001b[1;31m---------------------------------------------------------------------------\u001b[0m",
      "\u001b[1;31mImportError\u001b[0m                               Traceback (most recent call last)",
      "Cell \u001b[1;32mIn[1], line 3\u001b[0m\n\u001b[0;32m      1\u001b[0m \u001b[38;5;28;01mimport\u001b[39;00m \u001b[38;5;21;01msys\u001b[39;00m\n\u001b[0;32m      2\u001b[0m sys\u001b[38;5;241m.\u001b[39mpath\u001b[38;5;241m.\u001b[39mappend(\u001b[38;5;124m'\u001b[39m\u001b[38;5;124m../src\u001b[39m\u001b[38;5;124m'\u001b[39m)\n\u001b[1;32m----> 3\u001b[0m \u001b[38;5;28;01mfrom\u001b[39;00m \u001b[38;5;21;01mgow\u001b[39;00m\u001b[38;5;21;01m.\u001b[39;00m\u001b[38;5;21;01mutilities\u001b[39;00m \u001b[38;5;28;01mimport\u001b[39;00m load_ucr_dataset, run_knn\n\u001b[0;32m      4\u001b[0m \u001b[38;5;28;01mfrom\u001b[39;00m \u001b[38;5;21;01mgow\u001b[39;00m \u001b[38;5;28;01mimport\u001b[39;00m gow_sinkhorn_autoscale\n\u001b[0;32m      5\u001b[0m \u001b[38;5;28;01mimport\u001b[39;00m \u001b[38;5;21;01mnumpy\u001b[39;00m \u001b[38;5;28;01mas\u001b[39;00m \u001b[38;5;21;01mnp\u001b[39;00m\n",
      "File \u001b[1;32mc:\\Users\\Admin\\Downloads\\GOW-main\\GOW-main\\examples\\../src\\gow\\utilities.py:13\u001b[0m\n\u001b[0;32m     10\u001b[0m \u001b[38;5;28;01mfrom\u001b[39;00m \u001b[38;5;21;01msklearn\u001b[39;00m\u001b[38;5;21;01m.\u001b[39;00m\u001b[38;5;21;01mmetrics\u001b[39;00m \u001b[38;5;28;01mimport\u001b[39;00m accuracy_score\n\u001b[0;32m     12\u001b[0m \u001b[38;5;28;01mfrom\u001b[39;00m \u001b[38;5;21;01mdtw\u001b[39;00m \u001b[38;5;28;01mimport\u001b[39;00m dtw_mean_per_step\n\u001b[1;32m---> 13\u001b[0m \u001b[38;5;28;01mfrom\u001b[39;00m \u001b[38;5;21;01mop_tree\u001b[39;00m \u001b[38;5;28;01mimport\u001b[39;00m UltraTWD_GD\n\u001b[0;32m     15\u001b[0m sys\u001b[38;5;241m.\u001b[39mpath\u001b[38;5;241m.\u001b[39mappend(\u001b[38;5;124m'\u001b[39m\u001b[38;5;124msrc\u001b[39m\u001b[38;5;124m'\u001b[39m)\n\u001b[0;32m     16\u001b[0m \u001b[38;5;28;01mfrom\u001b[39;00m \u001b[38;5;21;01mgow\u001b[39;00m \u001b[38;5;28;01mimport\u001b[39;00m gow_sinkhorn_autoscale\n",
      "\u001b[1;31mImportError\u001b[0m: cannot import name 'UltraTWD_GD' from 'op_tree' (c:\\Users\\Admin\\Downloads\\GOW-main\\GOW-main\\examples\\../src\\op_tree\\__init__.py)"
     ]
    }
   ],
   "source": [
    "import sys\n",
    "sys.path.append('../src')\n",
    "from gow.utilities import load_ucr_dataset, run_knn\n",
    "from gow import gow_sinkhorn_autoscale\n",
    "import numpy as np\n",
    "from ot import dist\n",
    "import os"
   ]
  },
  {
   "cell_type": "code",
   "execution_count": 2,
   "id": "7c5c7c4d",
   "metadata": {},
   "outputs": [
    {
     "name": "stdout",
     "output_type": "stream",
     "text": [
      "Successfully loaded dataset: Chinatown\n",
      "Size of train data: 20\n",
      "Size of test data: 343\n"
     ]
    }
   ],
   "source": [
    "# Get UCR train and test sets\n",
    "X_train, y_train, X_test, y_test = load_ucr_dataset(\"../data/UCR\", \"Chinatown\")"
   ]
  },
  {
   "cell_type": "code",
   "execution_count": 41,
   "id": "83802c3c",
   "metadata": {},
   "outputs": [],
   "source": [
    "def add_positional_encoding(X):\n",
    "    \"\"\"Add positional encoding to the time series data.\"\"\"\n",
    "    n_samples = X.shape[0]\n",
    "    series_length = X.shape[1]\n",
    "    new_X = []\n",
    "    for i in range(n_samples):\n",
    "        median = np.median(X[i, :, 0])\n",
    "        for t in range(series_length):\n",
    "            new_X.append([X[i, t, 0], median* t / series_length])\n",
    "    return np.array(new_X)\n",
    "X = add_positional_encoding(np.concatenate((X_train, X_test), axis=0))"
   ]
  },
  {
   "cell_type": "code",
   "execution_count": 42,
   "id": "dfc472df",
   "metadata": {},
   "outputs": [],
   "source": [
    "import torch\n",
    "from op_tree.class_ultratwd_gd import UltraTWD_GD  \n",
    "\n",
    "device = \"cuda\" if torch.cuda.is_available() else \"cpu\"\n",
    "folder = f\"UltraTWD_gradient_descent_results\"\n",
    "os.makedirs(folder, exist_ok=True)\n"
   ]
  },
  {
   "cell_type": "code",
   "execution_count": 1,
   "id": "7ed8e9c8",
   "metadata": {},
   "outputs": [
    {
     "ename": "NameError",
     "evalue": "name 'folder' is not defined",
     "output_type": "error",
     "traceback": [
      "\u001b[31m---------------------------------------------------------------------------\u001b[39m",
      "\u001b[31mNameError\u001b[39m                                 Traceback (most recent call last)",
      "\u001b[36mCell\u001b[39m\u001b[36m \u001b[39m\u001b[32mIn[1]\u001b[39m\u001b[32m, line 1\u001b[39m\n\u001b[32m----> \u001b[39m\u001b[32m1\u001b[39m model_path = \u001b[33mf\u001b[39m\u001b[33m\"\u001b[39m\u001b[38;5;132;01m{\u001b[39;00m\u001b[43mfolder\u001b[49m\u001b[38;5;132;01m}\u001b[39;00m\u001b[33m/ultratwd_gradient_iter\u001b[39m\u001b[33m\"\u001b[39m\n\u001b[32m      2\u001b[39m \u001b[38;5;28mprint\u001b[39m(\u001b[33mf\u001b[39m\u001b[33m\"\u001b[39m\u001b[33m  Initializing the UltraTWD-GD on \u001b[39m\u001b[38;5;132;01m{\u001b[39;00mdevice\u001b[38;5;132;01m}\u001b[39;00m\u001b[33m...\u001b[39m\u001b[33m\"\u001b[39m)\n\u001b[32m      3\u001b[39m model = UltraTWD_GD(X, model_path, device=device, lambda_cost=\u001b[32m1.0\u001b[39m)  \u001b[38;5;66;03m# lambda_cost là tham số cho compute_new_cost\u001b[39;00m\n",
      "\u001b[31mNameError\u001b[39m: name 'folder' is not defined"
     ]
    }
   ],
   "source": [
    "model_path = f\"{folder}/ultratwd_gradient_iter\"\n",
    "print(f\"  Initializing the UltraTWD-GD on {device}...\")\n",
    "model = UltraTWD_GD(X, model_path, device=device, lambda_cost=1.0)  # lambda_cost là tham số cho compute_new_cost\n",
    "opt = torch.optim.Adam([model.param], lr=1)\n",
    "log = model.optimize_ultrametric_by_gradient_descent(\n",
    "    opt, max_iter=800\n",
    ")"
   ]
  },
  {
   "cell_type": "code",
   "execution_count": 29,
   "id": "64d1aa1d",
   "metadata": {},
   "outputs": [
    {
     "name": "stdout",
     "output_type": "stream",
     "text": [
      "[157.47354908]\n",
      "(69.29629629629629, 27)\n"
     ]
    }
   ],
   "source": [
    "N = X_train.shape[0]        # n_sequences\n",
    "L = X_train.shape[1]        # series_length (giả sử cố định)\n",
    "idx1, idx2 = [0], [1]  # các cặp chuỗi muốn so sánh\n",
    "\n",
    "twd, tsec = UltraTWD_GD.compute_twd_distance_for_sequences(\n",
    "    subtree=model.subtree,\n",
    "    param=model.param,\n",
    "    parents=model.parents,\n",
    "    n_sequences=N,\n",
    "    series_length=L,\n",
    "    idx1=idx1,\n",
    "    idx2=idx2\n",
    ")\n",
    "print(twd)\n",
    "from dtw import dtw_mean_per_step\n",
    "d = dtw_mean_per_step(X_train[0].T, X_train[1].T)\n",
    "print(d)"
   ]
  }
 ],
 "metadata": {
  "kernelspec": {
   "display_name": "Python 3",
   "language": "python",
   "name": "python3"
  },
  "language_info": {
   "codemirror_mode": {
    "name": "ipython",
    "version": 3
   },
   "file_extension": ".py",
   "mimetype": "text/x-python",
   "name": "python",
   "nbconvert_exporter": "python",
   "pygments_lexer": "ipython3",
   "version": "3.12.5"
  }
 },
 "nbformat": 4,
 "nbformat_minor": 5
}
